{
 "cells": [
  {
   "cell_type": "code",
   "execution_count": 66,
   "metadata": {},
   "outputs": [],
   "source": [
    "import requests\n",
    "import pandas as pd\n",
    "import matplotlib\n",
    "import matplotlib.pyplot as plt\n",
    "import io\n",
    "csv_file = \"output.csv\""
   ]
  },
  {
   "cell_type": "code",
   "execution_count": 67,
   "metadata": {},
   "outputs": [],
   "source": [
    "key = \"1awYH2gfv3J0TQvzi3jE7TmuNQ5gnq4AROAk_5bfAntE\"\n",
    "base_url = \"https://docs.google.com/spreadsheets/d/{key}/gviz/tq?tqx=out:csv&sheet={sheet_name}\"\n",
    "sheet_names = ['Before Cholecap', 'After Cholecap', 'Before Competitor A', 'After Competitor A', 'Before Competitor B', 'After Competitor B']\n",
    "# response = requests.get(url)\n",
    "# response.raise_for_status()  # This will raise an exception if there's an error\n",
    "all_data = {}\n",
    "\n",
    "# Fetch data for each sheet and store averages\n",
    "for sheet in sheet_names:\n",
    "    url = base_url.format(key=key, sheet_name=sheet)\n",
    "    response = requests.get(url)\n",
    "    response.raise_for_status()\n",
    "    df = pd.read_csv(io.StringIO(response.text))\n",
    "    all_data[sheet] = df.copy()"
   ]
  },
  {
   "cell_type": "code",
   "execution_count": 68,
   "metadata": {},
   "outputs": [
    {
     "data": {
      "text/html": [
       "<div>\n",
       "<style scoped>\n",
       "    .dataframe tbody tr th:only-of-type {\n",
       "        vertical-align: middle;\n",
       "    }\n",
       "\n",
       "    .dataframe tbody tr th {\n",
       "        vertical-align: top;\n",
       "    }\n",
       "\n",
       "    .dataframe thead th {\n",
       "        text-align: right;\n",
       "    }\n",
       "</style>\n",
       "<table border=\"1\" class=\"dataframe\">\n",
       "  <thead>\n",
       "    <tr style=\"text-align: right;\">\n",
       "      <th></th>\n",
       "      <th>Patient ID</th>\n",
       "      <th>Total Cholesteral Level</th>\n",
       "      <th>LDL Cholesterol Level</th>\n",
       "      <th>HDL Cholesterol Level</th>\n",
       "      <th>Triglycerides Level</th>\n",
       "      <th>Reported side effects</th>\n",
       "    </tr>\n",
       "  </thead>\n",
       "  <tbody>\n",
       "    <tr>\n",
       "      <th>0</th>\n",
       "      <td>1006</td>\n",
       "      <td>211</td>\n",
       "      <td>135</td>\n",
       "      <td>54</td>\n",
       "      <td>175</td>\n",
       "      <td>NaN</td>\n",
       "    </tr>\n",
       "  </tbody>\n",
       "</table>\n",
       "</div>"
      ],
      "text/plain": [
       "   Patient ID  Total Cholesteral Level  LDL Cholesterol Level  \\\n",
       "0        1006                      211                    135   \n",
       "\n",
       "   HDL Cholesterol Level  Triglycerides Level  Reported side effects  \n",
       "0                     54                  175                    NaN  "
      ]
     },
     "execution_count": 68,
     "metadata": {},
     "output_type": "execute_result"
    }
   ],
   "source": [
    "all_data['Before Competitor A'].head(1)"
   ]
  },
  {
   "cell_type": "code",
   "execution_count": 69,
   "metadata": {},
   "outputs": [],
   "source": [
    "def plot_cholesterol(dataframes_dict):\n",
    "    for sheet_name, df in dataframes_dict.items():\n",
    "        # Setting the positions and width for the bars\n",
    "        pos = list(range(len(df['Total Cholesteral Level'])))\n",
    "        width = 0.2\n",
    "\n",
    "        # Plotting the bars\n",
    "        fig, ax = plt.subplots(figsize=(10, 6))\n",
    "\n",
    "        plt.bar(pos, \n",
    "                df['Total Cholesteral Level'], \n",
    "                width, \n",
    "                alpha=0.5, \n",
    "                color='blue', \n",
    "                label=df['Patient ID'][0])\n",
    "        plt.bar([p + width for p in pos], \n",
    "                df['LDL Cholesterol Level'],\n",
    "                width, \n",
    "                alpha=0.5, \n",
    "                color='red', \n",
    "                label=df['Patient ID'][0])\n",
    "        plt.bar([p + (2*width) for p in pos], \n",
    "                df['HDL Cholesterol Level'],\n",
    "                width, \n",
    "                alpha=0.5, \n",
    "                color='yellow', \n",
    "                label=df['Patient ID'][0])\n",
    "        plt.bar([p + (3*width) for p in pos], \n",
    "                df['Triglycerides Level'],\n",
    "                width, \n",
    "                alpha=0.5, \n",
    "                color='green', \n",
    "                label=df['Patient ID'][0])\n",
    "\n",
    "        # Set the y-axis label\n",
    "        ax.set_ylabel('Cholesterol Levels')\n",
    "\n",
    "        # Set the chart's title\n",
    "        ax.set_title('Total vs LDL vs HDL vs Triglyceride Cholesterol Levels by Patient')\n",
    "\n",
    "        # Set the position of the x ticks\n",
    "        ax.set_xticks([p + 0.5 * width for p in pos])\n",
    "\n",
    "        # Set the labels for the x ticks\n",
    "        ax.set_xticklabels(df['Patient ID'])\n",
    "\n",
    "        # Adding the legend and showing the plot\n",
    "        plt.legend(['Total Cholesterol', 'LDL Cholesterol', 'HDL Cholesterol', 'Triglycerides Level'], loc='upper left')\n",
    "        plt.grid()\n",
    "        plt.savefig(f\"{sheet_name}_cholesterol_plot.png\")\n",
    "        plt.close()\n",
    "\n",
    "# Assuming you have a dictionary named all_data that contains all the dataframes\n",
    "plot_cholesterol(all_data)\n"
   ]
  },
  {
   "cell_type": "code",
   "execution_count": 70,
   "metadata": {},
   "outputs": [
    {
     "data": {
      "image/png": "[encoded data removed]",
      "text/plain": [
       "<Figure size 1000x600 with 1 Axes>"
      ]
     },
     "metadata": {},
     "output_type": "display_data"
    }
   ],
   "source": [
    "# Setting the positions and width for the bars\n",
    "pos = list(range(len(df['Total Cholesteral Level'])))\n",
    "width = 0.2\n",
    "\n",
    "# Plotting the bars\n",
    "fig, ax = plt.subplots(figsize=(10, 6))\n",
    "\n",
    "# Create a bar with 'Total Cholesterol Level' data,\n",
    "# in position pos,\n",
    "plt.bar(pos, \n",
    "        df['Total Cholesteral Level'], \n",
    "        width, \n",
    "        alpha=0.5, \n",
    "        color='red', \n",
    "        label=df['Patient ID'][0])\n",
    "plt.bar([p + width for p in pos], \n",
    "        df['LDL Cholesterol Level'],\n",
    "        width, \n",
    "        alpha=0.5, \n",
    "        color='orange', \n",
    "        label=df['Patient ID'][0])\n",
    "plt.bar([p + (2*width) for p in pos], \n",
    "        df['HDL Cholesterol Level'],\n",
    "        width, \n",
    "        alpha=0.5, \n",
    "        color='yellow', \n",
    "        label=df['Patient ID'][0])\n",
    "plt.bar([p + (3*width) for p in pos], \n",
    "        df['Triglycerides Level'],\n",
    "        width, \n",
    "        alpha=0.5, \n",
    "        color='green', \n",
    "        label=df['Patient ID'][0])\n",
    "\n",
    "# Set the y-axis label\n",
    "ax.set_ylabel('Cholesterol Levels')\n",
    "\n",
    "# Set the chart's title\n",
    "ax.set_title('Total vs LDL vs HDL vs Triglyceride Cholesterol Levels by Patient')\n",
    "\n",
    "# Set the position of the x ticks\n",
    "ax.set_xticks([p + 0.5 * width for p in pos])\n",
    "\n",
    "# Set the labels for the x ticks\n",
    "ax.set_xticklabels(df['Patient ID'])\n",
    "\n",
    "# Adding the legend and showing the plot\n",
    "plt.legend(['Total Cholesterol', 'LDL Cholesterol', 'HDL Cholesterol', 'Triglycerides Level'], loc='upper left')\n",
    "plt.grid()\n",
    "plt.savefig(\"my_plot.png\")\n"
   ]
  },
  {
   "cell_type": "code",
   "execution_count": null,
   "metadata": {},
   "outputs": [],
   "source": []
  },
  {
   "cell_type": "code",
   "execution_count": null,
   "metadata": {},
   "outputs": [],
   "source": []
  }
 ],
 "metadata": {
  "kernelspec": {
   "display_name": "base",
   "language": "python",
   "name": "python3"
  },
  "language_info": {
   "codemirror_mode": {
    "name": "ipython",
    "version": 3
   },
   "file_extension": ".py",
   "mimetype": "text/x-python",
   "name": "python",
   "nbconvert_exporter": "python",
   "pygments_lexer": "ipython3",
   "version": "3.11.5"
  }
 },
 "nbformat": 4,
 "nbformat_minor": 2
}
